{
 "cells": [
  {
   "cell_type": "markdown",
   "id": "3b19bfe7",
   "metadata": {},
   "source": [
    "# Logistic Regression MultiClass"
   ]
  },
  {
   "cell_type": "code",
   "execution_count": 3,
   "id": "81b20765",
   "metadata": {},
   "outputs": [],
   "source": [
    "import pandas as pd\n",
    "import numpy as np\n",
    "import matplotlib.pyplot as plt\n",
    "from sklearn import linear_model\n",
    "from sklearn.datasets import load_digits"
   ]
  },
  {
   "cell_type": "code",
   "execution_count": 36,
   "id": "a4e8066c",
   "metadata": {},
   "outputs": [
    {
     "data": {
      "text/plain": [
       "['DESCR', 'data', 'feature_names', 'frame', 'images', 'target', 'target_names']"
      ]
     },
     "execution_count": 36,
     "metadata": {},
     "output_type": "execute_result"
    }
   ],
   "source": [
    "di = load_digits()\n",
    "dir(di)"
   ]
  },
  {
   "cell_type": "code",
   "execution_count": 38,
   "id": "a60b32de",
   "metadata": {},
   "outputs": [
    {
     "data": {
      "text/plain": [
       "array([ 0.,  0., 12., 10.,  0.,  0.,  0.,  0.,  0.,  0., 14., 16., 16.,\n",
       "       14.,  0.,  0.,  0.,  0., 13., 16., 15., 10.,  1.,  0.,  0.,  0.,\n",
       "       11., 16., 16.,  7.,  0.,  0.,  0.,  0.,  0.,  4.,  7., 16.,  7.,\n",
       "        0.,  0.,  0.,  0.,  0.,  4., 16.,  9.,  0.,  0.,  0.,  5.,  4.,\n",
       "       12., 16.,  4.,  0.,  0.,  0.,  9., 16., 16., 10.,  0.,  0.])"
      ]
     },
     "execution_count": 38,
     "metadata": {},
     "output_type": "execute_result"
    }
   ],
   "source": [
    "di.data[5]"
   ]
  },
  {
   "cell_type": "code",
   "execution_count": 23,
   "id": "1cabcbaf",
   "metadata": {},
   "outputs": [],
   "source": [
    "a = di.images[2]"
   ]
  },
  {
   "cell_type": "code",
   "execution_count": 24,
   "id": "61f4d27e",
   "metadata": {},
   "outputs": [
    {
     "data": {
      "text/plain": [
       "<Figure size 432x288 with 0 Axes>"
      ]
     },
     "metadata": {},
     "output_type": "display_data"
    },
    {
     "data": {
      "image/png": "[encoded data removed]",
      "text/plain": [
       "<Figure size 288x288 with 1 Axes>"
      ]
     },
     "metadata": {
      "needs_background": "light"
     },
     "output_type": "display_data"
    }
   ],
   "source": [
    "plt.gray()\n",
    "plt.matshow(a)\n",
    "plt.show()"
   ]
  },
  {
   "cell_type": "code",
   "execution_count": 28,
   "id": "aac8a82d",
   "metadata": {},
   "outputs": [
    {
     "data": {
      "text/plain": [
       "array([1, 2, 3, 4])"
      ]
     },
     "execution_count": 28,
     "metadata": {},
     "output_type": "execute_result"
    }
   ],
   "source": [
    "di.target[1:5]"
   ]
  },
  {
   "cell_type": "code",
   "execution_count": 29,
   "id": "5912d996",
   "metadata": {},
   "outputs": [],
   "source": [
    "from sklearn.model_selection import train_test_split"
   ]
  },
  {
   "cell_type": "code",
   "execution_count": 47,
   "id": "ebc74ba1",
   "metadata": {},
   "outputs": [
    {
     "name": "stderr",
     "output_type": "stream",
     "text": [
      "C:\\Users\\HP\\anaconda3\\lib\\site-packages\\sklearn\\linear_model\\_logistic.py:763: ConvergenceWarning: lbfgs failed to converge (status=1):\n",
      "STOP: TOTAL NO. of ITERATIONS REACHED LIMIT.\n",
      "\n",
      "Increase the number of iterations (max_iter) or scale the data as shown in:\n",
      "    https://scikit-learn.org/stable/modules/preprocessing.html\n",
      "Please also refer to the documentation for alternative solver options:\n",
      "    https://scikit-learn.org/stable/modules/linear_model.html#logistic-regression\n",
      "  n_iter_i = _check_optimize_result(\n"
     ]
    },
    {
     "data": {
      "text/plain": [
       "array([6, 3, 8, 2, 7, 9, 1, 0, 3, 2, 8, 6, 8, 7, 6, 6, 5, 3, 3, 5, 1, 9,\n",
       "       6, 8, 3, 2, 0, 7, 2, 2, 1, 3, 7, 6, 1, 7, 6, 1, 6, 5, 6, 8, 8, 6,\n",
       "       9, 7, 0, 5, 6, 5, 5, 4, 8, 3, 1, 1, 6, 7, 4, 6, 2, 9, 0, 0, 5, 0,\n",
       "       9, 3, 4, 8, 5, 2, 2, 9, 6, 7, 4, 1, 7, 2, 0, 9, 0, 6, 5, 8, 8, 2,\n",
       "       3, 8, 5, 7, 3, 9, 0, 9, 1, 8, 1, 9, 7, 9, 9, 3, 8, 4, 7, 4, 8, 0,\n",
       "       8, 9, 1, 5, 9, 8, 5, 3, 9, 4, 9, 8, 9, 1, 3, 7, 0, 2, 9, 1, 4, 9,\n",
       "       9, 3, 0, 9, 6, 2, 7, 0, 0, 7, 3, 0, 1, 4, 7, 6, 5, 3, 2, 6, 8, 4,\n",
       "       5, 9, 0, 0, 8, 4, 9, 5, 6, 2, 0, 6, 0, 0, 3, 8, 5, 5, 9, 5, 8, 7,\n",
       "       2, 1, 2, 6, 5, 9, 8, 1, 7, 6, 6, 3, 6, 4, 3, 9, 4, 1, 7, 9, 2, 1,\n",
       "       7, 8, 7, 5, 3, 9, 4, 7, 4, 7, 4, 3, 3, 1, 4, 2, 9, 7, 8, 7, 0, 6,\n",
       "       5, 0, 0, 1, 0, 5, 3, 0, 1, 1, 7, 9, 5, 3, 5, 0, 8, 5, 2, 6, 2, 8,\n",
       "       3, 6, 1, 2, 9, 1, 9, 4, 6, 9, 7, 9, 9, 8, 9, 4, 3, 8, 6, 2, 1, 3,\n",
       "       5, 1, 2, 2, 7, 1, 5, 7, 6, 8, 7, 8, 8, 2, 9, 3, 1, 8, 5, 6, 5, 9,\n",
       "       1, 3, 9, 0, 6, 8, 0, 3, 9, 5, 4, 7, 8, 8, 7, 9, 5, 4, 3, 5, 3, 6,\n",
       "       4, 7, 3, 2, 2, 2, 1, 7, 6, 3, 4, 3, 4, 2, 5, 4, 8, 3, 7, 9, 1, 5,\n",
       "       0, 9, 3, 7, 1, 7, 5, 0, 6, 9, 6, 5, 9, 5, 7, 3, 3, 7, 8, 6, 9, 7,\n",
       "       2, 7, 2, 9, 0, 8, 4, 0])"
      ]
     },
     "execution_count": 47,
     "metadata": {},
     "output_type": "execute_result"
    }
   ],
   "source": [
    "lr = linear_model.LogisticRegression()\n",
    "lr.fit(X_train, y_train)\n",
    "lr.predict(X_test)"
   ]
  },
  {
   "cell_type": "code",
   "execution_count": 42,
   "id": "819e9a1f",
   "metadata": {},
   "outputs": [
    {
     "data": {
      "text/plain": [
       "array([7, 4, 0, 3, 1, 7, 6, 7, 7, 1, 4, 6, 6, 0, 8, 5, 2, 8, 5, 1, 0, 1,\n",
       "       2, 4, 7, 8, 9, 3, 5, 9, 1, 6, 4, 6, 4, 8, 9, 4, 5, 0, 3, 2, 9, 8,\n",
       "       9, 0, 0, 2, 1, 0, 2, 7, 0, 1, 2, 3, 8, 1, 7, 8, 8, 3, 2, 8, 2, 7,\n",
       "       6, 1, 1, 9, 9, 0, 4, 6, 6, 1, 7, 4, 8, 4, 7, 4, 9, 6, 9, 2, 9, 6,\n",
       "       4, 7, 8, 6, 7, 9, 0, 7, 8, 3, 4, 0, 3, 0, 6, 5, 8, 7, 3, 1, 2, 9,\n",
       "       8, 7, 6, 6, 3, 5, 4, 1, 4, 1, 5, 0, 8, 9, 0, 5, 1, 6, 7, 7, 2, 6,\n",
       "       4, 0, 8, 9, 3, 4, 9, 6, 8, 9, 8, 9, 5, 8, 6, 6, 7, 8, 2, 0, 3, 9,\n",
       "       6, 2, 1, 8, 6, 4, 0, 5, 2, 1, 6, 2, 8, 5, 9, 3, 9, 5, 6, 4, 1, 1,\n",
       "       1, 5, 8, 3, 2, 8, 2, 1, 6, 2, 1, 9, 9, 1, 2, 4, 5, 1, 4, 2, 2, 3,\n",
       "       3, 2, 9, 7, 3, 9, 5, 5, 5, 9, 2, 1, 6, 1, 3, 2, 9, 5, 9, 7, 7, 2,\n",
       "       9, 1, 4, 0, 5, 9, 2, 8, 5, 0, 9, 4, 2, 2, 6, 2, 4, 4, 6, 9, 3, 5,\n",
       "       7, 0, 3, 0, 0, 6, 4, 5, 0, 0, 5, 6, 6, 1, 5, 3, 8, 7, 1, 7, 8, 6,\n",
       "       7, 7, 1, 1, 2, 8, 4, 5, 4, 9, 9, 5, 9, 2, 7, 6, 1, 8, 9, 9, 8, 9,\n",
       "       8, 9, 7, 0, 1, 6, 8, 2, 2, 3, 1, 5, 2, 0, 0, 0, 6, 6, 6, 7, 4, 8,\n",
       "       3, 4, 7, 9, 2, 4, 4, 6, 3, 9, 3, 1, 6, 7, 9, 5, 7, 5, 8, 7, 7, 6,\n",
       "       0, 9, 0, 1, 0, 4, 6, 6, 1, 3, 3, 3, 7, 0, 4, 0, 0, 5, 0, 7, 9, 9,\n",
       "       8, 5, 6, 2, 3, 3, 6, 7])"
      ]
     },
     "execution_count": 42,
     "metadata": {},
     "output_type": "execute_result"
    }
   ],
   "source": [
    "y_test"
   ]
  },
  {
   "cell_type": "code",
   "execution_count": 48,
   "id": "ae4259c3",
   "metadata": {},
   "outputs": [
    {
     "data": {
      "text/plain": [
       "0.9666666666666667"
      ]
     },
     "execution_count": 48,
     "metadata": {},
     "output_type": "execute_result"
    }
   ],
   "source": [
    "lr.score(X_test, y_test)"
   ]
  },
  {
   "cell_type": "code",
   "execution_count": 56,
   "id": "43ef0ba4",
   "metadata": {},
   "outputs": [
    {
     "data": {
      "text/plain": [
       "8"
      ]
     },
     "execution_count": 56,
     "metadata": {},
     "output_type": "execute_result"
    }
   ],
   "source": [
    "di.target[18]"
   ]
  },
  {
   "cell_type": "code",
   "execution_count": 57,
   "id": "d4bb5b1b",
   "metadata": {},
   "outputs": [
    {
     "data": {
      "text/plain": [
       "array([8])"
      ]
     },
     "execution_count": 57,
     "metadata": {},
     "output_type": "execute_result"
    }
   ],
   "source": [
    "lr.predict([di.data[18]])"
   ]
  },
  {
   "cell_type": "code",
   "execution_count": 171,
   "id": "4e86da7a",
   "metadata": {},
   "outputs": [
    {
     "name": "stdout",
     "output_type": "stream",
     "text": [
      "8\n",
      "[8]\n"
     ]
    },
    {
     "data": {
      "image/png": "[encoded data removed]",
      "text/plain": [
       "<Figure size 288x288 with 1 Axes>"
      ]
     },
     "metadata": {
      "needs_background": "light"
     },
     "output_type": "display_data"
    }
   ],
   "source": [
    "plt.matshow(di.images[38])\n",
    "print(di.target[38])\n",
    "print(lr.predict([di.data[38]]))"
   ]
  },
  {
   "cell_type": "code",
   "execution_count": 72,
   "id": "22a3599e",
   "metadata": {},
   "outputs": [],
   "source": [
    "y_pred = lr.predict(X_test)\n",
    "from sklearn.metrics import confusion_matrix\n",
    "m = confusion_matrix(y_test, y_pred)"
   ]
  },
  {
   "cell_type": "code",
   "execution_count": 169,
   "id": "8f95990d",
   "metadata": {},
   "outputs": [
    {
     "data": {
      "text/plain": [
       "<AxesSubplot:>"
      ]
     },
     "execution_count": 169,
     "metadata": {},
     "output_type": "execute_result"
    },
    {
     "data": {
      "image/png": "[encoded data removed]",
      "text/plain": [
       "<Figure size 432x288 with 2 Axes>"
      ]
     },
     "metadata": {
      "needs_background": "light"
     },
     "output_type": "display_data"
    }
   ],
   "source": [
    "import seaborn as sn\n",
    "sn.heatmap(m)"
   ]
  },
  {
   "cell_type": "markdown",
   "id": "372ffb42",
   "metadata": {},
   "source": [
    "# Logistic Regression Binary"
   ]
  },
  {
   "cell_type": "code",
   "execution_count": 104,
   "id": "0efbfe72",
   "metadata": {},
   "outputs": [
    {
     "data": {
      "text/html": [
       "<div>\n",
       "<style scoped>\n",
       "    .dataframe tbody tr th:only-of-type {\n",
       "        vertical-align: middle;\n",
       "    }\n",
       "\n",
       "    .dataframe tbody tr th {\n",
       "        vertical-align: top;\n",
       "    }\n",
       "\n",
       "    .dataframe thead th {\n",
       "        text-align: right;\n",
       "    }\n",
       "</style>\n",
       "<table border=\"1\" class=\"dataframe\">\n",
       "  <thead>\n",
       "    <tr style=\"text-align: right;\">\n",
       "      <th></th>\n",
       "      <th>income</th>\n",
       "      <th>age</th>\n",
       "      <th>decision</th>\n",
       "    </tr>\n",
       "  </thead>\n",
       "  <tbody>\n",
       "    <tr>\n",
       "      <th>0</th>\n",
       "      <td>15000</td>\n",
       "      <td>21</td>\n",
       "      <td>0</td>\n",
       "    </tr>\n",
       "    <tr>\n",
       "      <th>1</th>\n",
       "      <td>18000</td>\n",
       "      <td>22</td>\n",
       "      <td>0</td>\n",
       "    </tr>\n",
       "    <tr>\n",
       "      <th>2</th>\n",
       "      <td>25000</td>\n",
       "      <td>30</td>\n",
       "      <td>1</td>\n",
       "    </tr>\n",
       "    <tr>\n",
       "      <th>3</th>\n",
       "      <td>10000</td>\n",
       "      <td>21</td>\n",
       "      <td>0</td>\n",
       "    </tr>\n",
       "    <tr>\n",
       "      <th>4</th>\n",
       "      <td>50000</td>\n",
       "      <td>28</td>\n",
       "      <td>1</td>\n",
       "    </tr>\n",
       "    <tr>\n",
       "      <th>5</th>\n",
       "      <td>70000</td>\n",
       "      <td>35</td>\n",
       "      <td>1</td>\n",
       "    </tr>\n",
       "    <tr>\n",
       "      <th>6</th>\n",
       "      <td>38000</td>\n",
       "      <td>26</td>\n",
       "      <td>1</td>\n",
       "    </tr>\n",
       "  </tbody>\n",
       "</table>\n",
       "</div>"
      ],
      "text/plain": [
       "   income  age  decision\n",
       "0   15000   21         0\n",
       "1   18000   22         0\n",
       "2   25000   30         1\n",
       "3   10000   21         0\n",
       "4   50000   28         1\n",
       "5   70000   35         1\n",
       "6   38000   26         1"
      ]
     },
     "execution_count": 104,
     "metadata": {},
     "output_type": "execute_result"
    }
   ],
   "source": [
    "df = pd.read_csv('car_sales.csv')\n",
    "df"
   ]
  },
  {
   "cell_type": "code",
   "execution_count": 168,
   "id": "d06db095",
   "metadata": {},
   "outputs": [
    {
     "data": {
      "text/html": [
       "<div>\n",
       "<style scoped>\n",
       "    .dataframe tbody tr th:only-of-type {\n",
       "        vertical-align: middle;\n",
       "    }\n",
       "\n",
       "    .dataframe tbody tr th {\n",
       "        vertical-align: top;\n",
       "    }\n",
       "\n",
       "    .dataframe thead th {\n",
       "        text-align: right;\n",
       "    }\n",
       "</style>\n",
       "<table border=\"1\" class=\"dataframe\">\n",
       "  <thead>\n",
       "    <tr style=\"text-align: right;\">\n",
       "      <th></th>\n",
       "      <th>income</th>\n",
       "      <th>age</th>\n",
       "    </tr>\n",
       "  </thead>\n",
       "  <tbody>\n",
       "    <tr>\n",
       "      <th>0</th>\n",
       "      <td>15000</td>\n",
       "      <td>21</td>\n",
       "    </tr>\n",
       "    <tr>\n",
       "      <th>1</th>\n",
       "      <td>18000</td>\n",
       "      <td>22</td>\n",
       "    </tr>\n",
       "    <tr>\n",
       "      <th>2</th>\n",
       "      <td>25000</td>\n",
       "      <td>30</td>\n",
       "    </tr>\n",
       "    <tr>\n",
       "      <th>3</th>\n",
       "      <td>10000</td>\n",
       "      <td>21</td>\n",
       "    </tr>\n",
       "    <tr>\n",
       "      <th>4</th>\n",
       "      <td>50000</td>\n",
       "      <td>28</td>\n",
       "    </tr>\n",
       "    <tr>\n",
       "      <th>5</th>\n",
       "      <td>70000</td>\n",
       "      <td>35</td>\n",
       "    </tr>\n",
       "    <tr>\n",
       "      <th>6</th>\n",
       "      <td>38000</td>\n",
       "      <td>26</td>\n",
       "    </tr>\n",
       "  </tbody>\n",
       "</table>\n",
       "</div>"
      ],
      "text/plain": [
       "   income  age\n",
       "0   15000   21\n",
       "1   18000   22\n",
       "2   25000   30\n",
       "3   10000   21\n",
       "4   50000   28\n",
       "5   70000   35\n",
       "6   38000   26"
      ]
     },
     "execution_count": 168,
     "metadata": {},
     "output_type": "execute_result"
    }
   ],
   "source": [
    "X = df.drop(\"decision\", axis = 1)\n",
    "y = df.decision\n",
    "X"
   ]
  },
  {
   "cell_type": "code",
   "execution_count": 187,
   "id": "6ba79640",
   "metadata": {},
   "outputs": [
    {
     "data": {
      "image/png": "[encoded data removed]",
      "text/plain": [
       "<Figure size 432x288 with 1 Axes>"
      ]
     },
     "metadata": {
      "needs_background": "light"
     },
     "output_type": "display_data"
    }
   ],
   "source": [
    "#plt.subplot(1,2,1)\n",
    "plt.scatter(df[[\"income\"]], y, marker = '*', color = 'r')\n",
    "#plt.subplot(1,2,2)\n",
    "plt.scatter(df[[\"age\"]], y, marker = '+', color = 'b')\n",
    "plt.show()"
   ]
  },
  {
   "cell_type": "code",
   "execution_count": 153,
   "id": "e884a6ac",
   "metadata": {},
   "outputs": [],
   "source": [
    "model = linear_model.LogisticRegression()\n",
    "X_train, X_test, y_train, y_test = train_test_split(X, y, test_size = 0.2)"
   ]
  },
  {
   "cell_type": "code",
   "execution_count": 154,
   "id": "c4f38815",
   "metadata": {},
   "outputs": [
    {
     "data": {
      "text/plain": [
       "LogisticRegression()"
      ]
     },
     "execution_count": 154,
     "metadata": {},
     "output_type": "execute_result"
    }
   ],
   "source": [
    "model.fit(X_train, y_train)"
   ]
  },
  {
   "cell_type": "code",
   "execution_count": 167,
   "id": "682b5842",
   "metadata": {},
   "outputs": [
    {
     "data": {
      "text/plain": [
       "array([1], dtype=int64)"
      ]
     },
     "execution_count": 167,
     "metadata": {},
     "output_type": "execute_result"
    }
   ],
   "source": [
    "model.predict([[50000, 2]])"
   ]
  },
  {
   "cell_type": "code",
   "execution_count": 159,
   "id": "ecb7b405",
   "metadata": {},
   "outputs": [
    {
     "data": {
      "text/plain": [
       "1.0"
      ]
     },
     "execution_count": 159,
     "metadata": {},
     "output_type": "execute_result"
    }
   ],
   "source": [
    "model.score(X_test, y_test)"
   ]
  },
  {
   "cell_type": "code",
   "execution_count": 147,
   "id": "e91d69e5",
   "metadata": {},
   "outputs": [],
   "source": [
    "y_pred = model.predict(X_test)"
   ]
  },
  {
   "cell_type": "code",
   "execution_count": 148,
   "id": "98711d9e",
   "metadata": {},
   "outputs": [
    {
     "data": {
      "text/plain": [
       "array([[1, 0],\n",
       "       [0, 1]], dtype=int64)"
      ]
     },
     "execution_count": 148,
     "metadata": {},
     "output_type": "execute_result"
    }
   ],
   "source": [
    "from sklearn.metrics import confusion_matrix\n",
    "mm = confusion_matrix(y_test, y_pred)\n",
    "mm"
   ]
  },
  {
   "cell_type": "code",
   "execution_count": 149,
   "id": "bb8ef6d0",
   "metadata": {
    "scrolled": true
   },
   "outputs": [
    {
     "data": {
      "text/plain": [
       "<AxesSubplot:>"
      ]
     },
     "execution_count": 149,
     "metadata": {},
     "output_type": "execute_result"
    },
    {
     "data": {
      "image/png": "[encoded data removed]",
      "text/plain": [
       "<Figure size 432x288 with 2 Axes>"
      ]
     },
     "metadata": {
      "needs_background": "light"
     },
     "output_type": "display_data"
    }
   ],
   "source": [
    "import seaborn as sn\n",
    "sn.heatmap(mm)"
   ]
  },
  {
   "cell_type": "markdown",
   "id": "ef15cae0",
   "metadata": {},
   "source": [
    "# Decision Tree Classifier"
   ]
  },
  {
   "cell_type": "code",
   "execution_count": 191,
   "id": "25b4e54b",
   "metadata": {},
   "outputs": [],
   "source": [
    "from sklearn.tree import DecisionTreeClassifier"
   ]
  },
  {
   "cell_type": "code",
   "execution_count": 192,
   "id": "64bb8e49",
   "metadata": {},
   "outputs": [
    {
     "data": {
      "text/plain": [
       "DecisionTreeClassifier()"
      ]
     },
     "execution_count": 192,
     "metadata": {},
     "output_type": "execute_result"
    }
   ],
   "source": [
    "dt = DecisionTreeClassifier()\n",
    "dt.fit(X_train, y_train)"
   ]
  },
  {
   "cell_type": "code",
   "execution_count": 199,
   "id": "54c23d4b",
   "metadata": {},
   "outputs": [
    {
     "data": {
      "text/html": [
       "<div>\n",
       "<style scoped>\n",
       "    .dataframe tbody tr th:only-of-type {\n",
       "        vertical-align: middle;\n",
       "    }\n",
       "\n",
       "    .dataframe tbody tr th {\n",
       "        vertical-align: top;\n",
       "    }\n",
       "\n",
       "    .dataframe thead th {\n",
       "        text-align: right;\n",
       "    }\n",
       "</style>\n",
       "<table border=\"1\" class=\"dataframe\">\n",
       "  <thead>\n",
       "    <tr style=\"text-align: right;\">\n",
       "      <th></th>\n",
       "      <th>age</th>\n",
       "    </tr>\n",
       "  </thead>\n",
       "  <tbody>\n",
       "    <tr>\n",
       "      <th>3</th>\n",
       "      <td>21</td>\n",
       "    </tr>\n",
       "    <tr>\n",
       "      <th>0</th>\n",
       "      <td>21</td>\n",
       "    </tr>\n",
       "  </tbody>\n",
       "</table>\n",
       "</div>"
      ],
      "text/plain": [
       "   age\n",
       "3   21\n",
       "0   21"
      ]
     },
     "execution_count": 199,
     "metadata": {},
     "output_type": "execute_result"
    }
   ],
   "source": [
    "X_test"
   ]
  },
  {
   "cell_type": "code",
   "execution_count": 204,
   "id": "b856a9fa",
   "metadata": {
    "scrolled": true
   },
   "outputs": [
    {
     "data": {
      "text/plain": [
       "array([0, 0], dtype=int64)"
      ]
     },
     "execution_count": 204,
     "metadata": {},
     "output_type": "execute_result"
    }
   ],
   "source": [
    "y_perd = dt.predict(X_test)"
   ]
  },
  {
   "cell_type": "code",
   "execution_count": 210,
   "id": "fb271af5",
   "metadata": {},
   "outputs": [],
   "source": [
    "dtcm = confusion_matrix(y_test, y_pred)"
   ]
  },
  {
   "cell_type": "code",
   "execution_count": 212,
   "id": "f81ce4e8",
   "metadata": {
    "scrolled": false
   },
   "outputs": [
    {
     "data": {
      "text/plain": [
       "<AxesSubplot:>"
      ]
     },
     "execution_count": 212,
     "metadata": {},
     "output_type": "execute_result"
    },
    {
     "data": {
      "image/png": "[encoded data removed]",
      "text/plain": [
       "<Figure size 432x288 with 2 Axes>"
      ]
     },
     "metadata": {
      "needs_background": "light"
     },
     "output_type": "display_data"
    }
   ],
   "source": [
    "sn.heatmap(dtcm)"
   ]
  },
  {
   "cell_type": "code",
   "execution_count": null,
   "id": "f483d433",
   "metadata": {},
   "outputs": [],
   "source": []
  }
 ],
 "metadata": {
  "kernelspec": {
   "display_name": "Python 3",
   "language": "python",
   "name": "python3"
  },
  "language_info": {
   "codemirror_mode": {
    "name": "ipython",
    "version": 3
   },
   "file_extension": ".py",
   "mimetype": "text/x-python",
   "name": "python",
   "nbconvert_exporter": "python",
   "pygments_lexer": "ipython3",
   "version": "3.8.8"
  }
 },
 "nbformat": 4,
 "nbformat_minor": 5
}
